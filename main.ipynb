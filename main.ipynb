{
  "nbformat": 4,
  "nbformat_minor": 0,
  "metadata": {
    "colab": {
      "provenance": [],
      "authorship_tag": "ABX9TyOJCtOgRynDFbvwgjqmnrsa",
      "include_colab_link": true
    },
    "kernelspec": {
      "name": "python3",
      "display_name": "Python 3"
    },
    "language_info": {
      "name": "python"
    }
  },
  "cells": [
    {
      "cell_type": "markdown",
      "metadata": {
        "id": "view-in-github",
        "colab_type": "text"
      },
      "source": [
        "<a href=\"https://colab.research.google.com/github/JordaniaGabrielle/exercicio-final-python/blob/main/main.ipynb\" target=\"_parent\"><img src=\"https://colab.research.google.com/assets/colab-badge.svg\" alt=\"Open In Colab\"/></a>"
      ]
    },
    {
      "cell_type": "code",
      "execution_count": 61,
      "metadata": {
        "colab": {
          "base_uri": "https://localhost:8080/"
        },
        "id": "2Ee-kgPdd4KB",
        "outputId": "e4b332c3-7008-4c4d-ad6e-7b54c976fad2"
      },
      "outputs": [
        {
          "output_type": "stream",
          "name": "stdout",
          "text": [
            "------------------------------------------------------------\n",
            "            Livros: \n",
            "É Assim que Acaba                 : [Disponivel]\n",
            "A Menina Que Vendia Fósforo       : [Disponivel]\n",
            "O Guia do Mochileiro das Galáxias : [Emprestado no momento]\n",
            "------------------------------------------------------------\n",
            "            Livros com mais de 100 paginas:\n",
            "[368 208]\n",
            "------------------------------------------------------------\n",
            "            A Média de publicaçôes dos Livros: \n",
            " 2015.67\n",
            "------------------------------------------------------------\n"
          ]
        }
      ],
      "source": [
        "# Parte 1 do desafio:\n",
        "print(\"-\"*60)\n",
        "print(\"            Livros: \")\n",
        "\n",
        "class Livro:\n",
        "  def __init__(self, titulo = str, autor = str):\n",
        "    self.titulo = titulo\n",
        "    self.autor = autor\n",
        "    self.disponivel = True\n",
        "\n",
        "  def emprestar(self):\n",
        "    self.disponivel = False\n",
        "\n",
        "  def status_livro(self):\n",
        "    return f\"{self.titulo:<33} : {'[Disponivel]' if self.disponivel == True else '[Emprestado no momento]'}\"\n",
        "\n",
        "# Parte 2 do desafio:\n",
        "Biblioteca = [\n",
        "  Livro(\"É Assim que Acaba\"),\n",
        "  Livro(\"A Menina Que Vendia Fósforo\"),\n",
        "  Livro(\"O Guia do Mochileiro das Galáxias\")\n",
        "]\n",
        "\n",
        "for livro in Biblioteca:\n",
        "  Biblioteca[2].emprestar()\n",
        "  print(livro.status_livro())\n",
        "\n",
        "# Parte 3 do desafio:\n",
        "print(\"-\"*60)\n",
        "print(\"            Livros com mais de 100 paginas:\")\n",
        "import numpy as np\n",
        "\n",
        "numero_pag = np.array([368, 12, 208])\n",
        "\n",
        "limite_pag = numero_pag > 100\n",
        "\n",
        "filtrados = numero_pag[limite_pag]\n",
        "\n",
        "print(filtrados)\n",
        "\n",
        "print(\"-\"*60)\n",
        "\n",
        "# Parte 4 do desafio:\n",
        "anos_publi = np.array([1996, 2029, 2022])\n",
        "\n",
        "def media(livros):\n",
        "  soma = 0\n",
        "  contador = 0\n",
        "\n",
        "  for num in livros:\n",
        "    soma += num\n",
        "    contador += 1\n",
        "  resultado = (soma / contador)\n",
        "  return resultado\n",
        "\n",
        "media_livros = media(anos_publi)\n",
        "\n",
        "print(f\"            A Média de publicaçôes dos Livros: \\n {media_livros:.2f}\")\n",
        "print(\"-\"*60)\n",
        "\n"
      ]
    }
  ]
}